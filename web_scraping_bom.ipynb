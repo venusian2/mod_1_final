{
 "cells": [
  {
   "cell_type": "code",
   "execution_count": 3,
   "metadata": {},
   "outputs": [],
   "source": [
    "from bs4 import BeautifulSoup\n",
    "import requests\n",
    "import time"
   ]
  },
  {
   "cell_type": "code",
   "execution_count": 17,
   "metadata": {},
   "outputs": [],
   "source": [
    "url = 'https://www.boxofficemojo.com/chart/ww_top_lifetime_gross/?area=XWW'\n",
    "movies = []\n",
    "imdb_ids = []"
   ]
  },
  {
   "cell_type": "code",
   "execution_count": 15,
   "metadata": {},
   "outputs": [],
   "source": [
    "# main function, returns all relevant information we are looking for\n",
    "\n",
    "def soupy(url, movies, imdb_ids):\n",
    "    time.sleep(5)\n",
    "    page = requests.get(url)\n",
    "    soup = BeautifulSoup(page.content, 'html.parser')\n",
    "    movies.extend(movie_deets(soup, movies))\n",
    "    imdb_ids.extend(imdb_tags(soup, imdb_ids))\n",
    "    print(len(imdb_ids))\n",
    "    back = next_url(soup)\n",
    "    if back:\n",
    "        front = url.split('/chart')[0]\n",
    "        new_url = front + back\n",
    "        print(new_url)\n",
    "        return soupy(new_url,movies, imdb_ids)\n",
    "    else:\n",
    "        return imdb_ids\n",
    "        \n",
    "        "
   ]
  },
  {
   "cell_type": "code",
   "execution_count": 11,
   "metadata": {},
   "outputs": [],
   "source": [
    "def imdb_tags(soup, imdb_ids):\n",
    "    movie_info = soup.findAll('tr', style='')\n",
    "    imdb_id = []\n",
    "    for i in range(1,201):\n",
    "        for detail in movie_info[i].find('td', class_='a-text-left mojo-field-type-title'):\n",
    "            imdb_id.append(detail.get('href').split('/')[2]) \n",
    "    return imdb_id\n",
    "    "
   ]
  },
  {
   "cell_type": "code",
   "execution_count": 7,
   "metadata": {},
   "outputs": [],
   "source": [
    "# gets movie details in list format and returns to main function\n",
    "\n",
    "def movie_deets(soup, movie_list):\n",
    "    # navigates to where list of movies is\n",
    "    movie_info = soup.findAll('tr', style='')\n",
    "    movies = []\n",
    "    \n",
    "    # loops through all movies in the list and adds info to master movie list\n",
    "    for i in range(1,201):\n",
    "        movie_deets = []\n",
    "        for detail in movie_info[i].findAll('td'):\n",
    "            movie_deets.append(detail.text)\n",
    "        movies.append(movie_deets)\n",
    "    return movies\n",
    "    "
   ]
  },
  {
   "cell_type": "code",
   "execution_count": 8,
   "metadata": {},
   "outputs": [],
   "source": [
    "# gets the next url to navigate to the next page of results\n",
    "\n",
    "def next_url(soup):\n",
    "    \n",
    "    #navigates to where url is\n",
    "    next_ur = soup.find('li', class_='a-last').find('a') \n",
    "    \n",
    "    #if url is there will return the next url\n",
    "    # once the end of results is reached will return False to main function in order to terminate it\n",
    "    if next_ur:\n",
    "        return next_ur.get('href')\n",
    "    else:\n",
    "        return False\n",
    "        "
   ]
  },
  {
   "cell_type": "code",
   "execution_count": 18,
   "metadata": {},
   "outputs": [
    {
     "name": "stdout",
     "output_type": "stream",
     "text": [
      "200\n",
      "https://www.boxofficemojo.com/chart/ww_top_lifetime_gross/?offset=200&area=XWW\n",
      "400\n",
      "https://www.boxofficemojo.com/chart/ww_top_lifetime_gross/?offset=400&area=XWW\n",
      "600\n",
      "https://www.boxofficemojo.com/chart/ww_top_lifetime_gross/?area=XWW&offset=600\n",
      "800\n",
      "https://www.boxofficemojo.com/chart/ww_top_lifetime_gross/?area=XWW&offset=800\n",
      "1000\n"
     ]
    }
   ],
   "source": [
    "imdb = soupy(url, movies, imdb_ids)"
   ]
  },
  {
   "cell_type": "code",
   "execution_count": 19,
   "metadata": {},
   "outputs": [
    {
     "data": {
      "text/plain": [
       "1000"
      ]
     },
     "execution_count": 19,
     "metadata": {},
     "output_type": "execute_result"
    }
   ],
   "source": [
    "len(imdb)"
   ]
  },
  {
   "cell_type": "code",
   "execution_count": null,
   "metadata": {},
   "outputs": [],
   "source": []
  }
 ],
 "metadata": {
  "kernelspec": {
   "display_name": "Python 3",
   "language": "python",
   "name": "python3"
  },
  "language_info": {
   "codemirror_mode": {
    "name": "ipython",
    "version": 3
   },
   "file_extension": ".py",
   "mimetype": "text/x-python",
   "name": "python",
   "nbconvert_exporter": "python",
   "pygments_lexer": "ipython3",
   "version": "3.7.6"
  }
 },
 "nbformat": 4,
 "nbformat_minor": 4
}
